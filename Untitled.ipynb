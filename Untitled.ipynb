{
 "cells": [
  {
   "cell_type": "code",
   "execution_count": 2,
   "metadata": {},
   "outputs": [
    {
     "name": "stdout",
     "output_type": "stream",
     "text": [
      "['a;b;c']\n",
      "['c;d;e']\n"
     ]
    }
   ],
   "source": [
    "import csv\n",
    "from collections import deque\n",
    "\n",
    "q = deque()\n",
    "reader = csv.reader(iter(q.popleft, None))\n",
    "\n",
    "q.append(\"a;b;c\")\n",
    "print(reader.__next__())\n",
    "\n",
    "q.append(\"c;d;e\")\n",
    "print(reader.__next__())"
   ]
  },
  {
   "cell_type": "code",
   "execution_count": null,
   "metadata": {},
   "outputs": [],
   "source": []
  }
 ],
 "metadata": {
  "kernelspec": {
   "display_name": "Python 3",
   "language": "python",
   "name": "python3"
  },
  "language_info": {
   "codemirror_mode": {
    "name": "ipython",
    "version": 3
   },
   "file_extension": ".py",
   "mimetype": "text/x-python",
   "name": "python",
   "nbconvert_exporter": "python",
   "pygments_lexer": "ipython3",
   "version": "3.8.3"
  }
 },
 "nbformat": 4,
 "nbformat_minor": 4
}
